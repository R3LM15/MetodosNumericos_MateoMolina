{
 "cells": [
  {
   "cell_type": "markdown",
   "id": "be2c362b",
   "metadata": {},
   "source": [
    "# Tarea 05: Ejercicios Unidad 02 B Método de Newton y de la Secante\n",
    "### CONJUNTO DE EJERCICIOS\n",
    "\n",
    "- Mateo Molina Moises Estrella\n",
    "\n",
    "**Link Repositorio:** https://github.com/R3LM15/MetodosNumericos_MateoMolina\n",
    "\n",
    "\n"
   ]
  },
  {
   "cell_type": "markdown",
   "id": "6a587d84",
   "metadata": {},
   "source": [
    "1. Sea 𝑓(𝑥) = $ -x^3 -cos(x) $ y $𝑝_0 = −1$. Use el método de Newton y de la Secante para encontrar 𝑝2. ¿Se podría usar $𝑝_0$ = 0?"
   ]
  },
  {
   "cell_type": "markdown",
   "id": "f5677e8c",
   "metadata": {},
   "source": [
    "### Método de Newton\n",
    "$$ x_n = x_{n-1} - \\frac{f(x_{n-1})}{f'(x_{n-1})}  , n \\ge  1$$\n",
    "- Dado $p_0$ = -1 \n",
    "\n",
    "𝑓(x)  = $ -x^3 -cos(x) $\n",
    "\n",
    "𝑓'(x) = $ -3x^2 + sen(x) $\n",
    "\n",
    "Iteración 1:  $$ x_1 = -1 - \\frac{0.45969}{-3.84147} = -0.88033$$\n",
    "\n",
    "𝑓(-1)  = $ -(-1)^3 -cos(-1) = 0.45969$\n",
    "\n",
    "𝑓'(-1) = $ -3(-1)^2 + sen(-1) = -3.84147$\n",
    "\n",
    "Iteración 2:  $$ x_2 = -0.88033 - \\frac{0.04534}{-3.09589} = -0.86568$$\n",
    "\n",
    "𝑓(-0.88033)  = $ -(-0.88033)^3 -cos(-0.88033) = 0.04534$\n",
    "\n",
    "𝑓'(-0.88033) = $ -3(-0.88033)^2 + sen(-0.88033) = -3.09589$\n",
    "\n",
    "Por lo tanto sabemos que $p_2 = -0.86568$\n",
    "\n",
    "- Dado $p_0$ = 0\n",
    "\n",
    "𝑓(0)  = $ -(0)^3 -cos(0) = -1 $\n",
    "\n",
    "𝑓'(0) = $ -3(0)^2 + sen(0) = 0 $\n",
    "\n",
    "El método de Newton falla, porque dividiríamos por cero.\n",
    "\n",
    "### Método de la Secante\n",
    "\n",
    "- Dado $p_0$ = -1 y eleguido $p_1$ = -1.5 \n",
    "\n",
    "$$ x_n = x_{n-1} - f(x_{n-1}) * \\frac{x_{n-1} - x_{n-2}}{f(x_{n-1})-f(x_{n-2})}  $$ \n",
    "\n",
    "Cálculos:  \n",
    "\n",
    "𝑓(-1.5)  = $ -(-1.5)^3 -cos(-1.5) = 3.30426 $\n",
    "\n",
    "𝑓(-1)  = $ -(-1)^3 -cos(-1) = 0.45969 $\n",
    "\n",
    "$$ x_2 = -1.5 - 3.30426 * \\frac{-1.5 - (-1)}{3.30426-0.45969} = -0.91919 $$ \n",
    "\n",
    "Por lo tanto sabemos que $p_2 = -0.91919$\n",
    "\n",
    "- Dado $p_0$ = 0 y eleguido $p_1$ = 1\n",
    "\n",
    "𝑓(0)  = $ -(0)^3 -cos(0) = -1 $\n",
    "\n",
    "𝑓(1)  = $ -(1)^3 -cos(1) = -1.54030 $\n",
    "\n",
    "$$ x_2 = 1 - (-1.5403) * \\frac{1 - 0}{-1.5403-(-1)} = -1.85082$$\n",
    "\n",
    "\n"
   ]
  },
  {
   "cell_type": "markdown",
   "id": "b5cfd2c5",
   "metadata": {},
   "source": [
    "2. Encuentre soluciones precisas dentro de $10^{-4}$ para los siguientes problemas. \n",
    "\n",
    "    a. $x^{3} - 2x^{2}-5 = 0$ , [1,4]      \n",
    "    \n",
    "     b. $x^{3} - 3x^{2} - 1 = 0$, [-3,-2]\n",
    "\n",
    "     c. $ x-cosx=0 $, [0,$\\pi$/2]\n",
    "\n",
    "     d. $ x-0.8-0.2senx =0 $,[0,$\\pi$/2]"
   ]
  },
  {
   "cell_type": "code",
   "execution_count": 19,
   "id": "8deafd4f",
   "metadata": {},
   "outputs": [],
   "source": [
    "import numpy as np\n",
    "## metodo de secante (Dos puntos)\n",
    "def secante(f, x0, x1, tol=1e-4, max_iter=100):\n",
    "    for i in range(max_iter):\n",
    "        fx0 = f(x0)\n",
    "        fx1 = f(x1)\n",
    "\n",
    "        if fx1 - fx0 == 0:\n",
    "            print(\"División por cero en iteración.\")\n",
    "\n",
    "        x2 = x1 - fx1 * (x1 - x0) / (fx1 - fx0)\n",
    "\n",
    "        if abs(x2 - x1) < tol:\n",
    "            return x2  # raíz aproximada\n",
    "\n",
    "        x0, x1 = x1, x2\n",
    "\n",
    "    print(\"No converge dentro del número máximo de iteraciones.\")\n"
   ]
  },
  {
   "cell_type": "code",
   "execution_count": 22,
   "id": "f0182ffd",
   "metadata": {},
   "outputs": [
    {
     "name": "stdout",
     "output_type": "stream",
     "text": [
      "a | Raíz aproximada: 2.690647447883773\n",
      "b | Raíz aproximada: 3.103803339266244\n",
      "c | Raíz aproximada: 0.739085133034638\n",
      "d | Raíz aproximada: 0.964333884548886\n"
     ]
    }
   ],
   "source": [
    "#a)\n",
    "# Definir la función f(x)\n",
    "def f(x):\n",
    "    return x**3-2*x**2-5\n",
    "\n",
    "a = secante(f, x0=1, x1=4)\n",
    "print(\"a | Raíz aproximada:\", a)\n",
    "\n",
    "#--------------------------------------------------------------\n",
    "\n",
    "#b)\n",
    "# Definir la función f(x)\n",
    "def f(x):\n",
    "    return x**3-3*x**2-1\n",
    "\n",
    "b = secante(f, x0=-3, x1=-2)\n",
    "print(\"b | Raíz aproximada:\", b)\n",
    "\n",
    "#--------------------------------------------------------------\n",
    "\n",
    "#c)\n",
    "# Definir la función f(x)\n",
    "def f(x):\n",
    "    return x-np.cos(x)\n",
    "\n",
    "c = secante(f, x0=0, x1=(np.pi/2))\n",
    "print(\"c | Raíz aproximada:\", c)\n",
    "\n",
    "#--------------------------------------------------------------\n",
    "\n",
    "#d)\n",
    "# Definir la función f(x)\n",
    "def f(x):\n",
    "    return x-0.8-0.2*np.sin(x)\n",
    "\n",
    "d = secante(f, x0=0, x1=(np.pi/2))\n",
    "print(\"d | Raíz aproximada:\", d)"
   ]
  },
  {
   "cell_type": "markdown",
   "id": "c1de7d43",
   "metadata": {},
   "source": [
    "3. Use los 2 métodos en esta sección para encontrar las soluciones dentro de $10^{-5}$ para los siguientes problemas.\n",
    "\n",
    "    a. $3x-e^{x}=0$ para $1 \\le  x \\le 2$\n",
    "\n",
    "    b. $ 2x +3cosx - e^{x} =0 $ para $ 1 \\le x \\le 2  $"
   ]
  },
  {
   "cell_type": "markdown",
   "id": "650eab7b",
   "metadata": {},
   "source": [
    "4. El polinomio de cuarto grado\n",
    "$$𝑓(𝑥) = 230𝑥^{4} + 18𝑥^{3} + 9𝑥^{2} − 221𝑥 − 9$$ \n",
    "tiene dos ceros reales, uno en [−1,0] y el otro en [0,1]. Intente aproximar estos ceros dentro de $10^{-6}$ con\n",
    "\n",
    "a. El método de la secante (use los extremos como las estimaciones iniciales)\n",
    "\n",
    "b. El método de Newton (use el punto medio como estimación inicial)"
   ]
  },
  {
   "cell_type": "markdown",
   "id": "c127718d",
   "metadata": {},
   "source": [
    "5. La funcion $f(x)=tan(\\pi x)-6 $ tiene cero en $1 / \\pi arcontangente 6 \\approx 0.447431543$. Sea $p_0 = 0$ y $p_1 = 0.48$ y use 10 iteraciones en cada uno de los siguientes métodos para aproximar esta raíz. ¿Cuál método es más eficaz y por qué?\n",
    "\n",
    "    a. método de bisección\n",
    "\n",
    "    b. método de Newton\n",
    "\n",
    "    c. método de la secante\n"
   ]
  },
  {
   "cell_type": "markdown",
   "id": "f48c4c98",
   "metadata": {},
   "source": [
    "6. La función descrita por $f(x) = ln(x^{2}+1) -e^{0.4x} cos𝜋𝑥$ tiene un número infinito de ceros.\n",
    "\n",
    "    a. Determine, dentro de $10^{-6}$, el único cero negativo.\n",
    "\n",
    "    b. Determine, dentro de $10^{−6}$, los cuatro ceros positivos más pequeños.\n",
    "\n",
    "    c. Determine una aproximación inicial razonable para encontrar el enésimo cero positivo más pequeño de 𝑓. [Sugerencia: Dibuje una gráfica aproximada de 𝑓.]\n",
    "\n",
    "    d. Use la parte c) para determinar, dentro de $10^{−6}$, el vigesimoquinto cero positivo más pequeño de 𝑓.\n"
   ]
  },
  {
   "cell_type": "markdown",
   "id": "996b549c",
   "metadata": {},
   "source": [
    "7. La función 𝑓(𝑥) = $ 𝑥^{1/3} $ tiene raíz en 𝑥 = 0. Usando el punto de inicio de 𝑥 = 1 y $𝑝_0$ = 5, $𝑝_1$ = 0.5 para el método de secante, compare los resultados de los métodos de la secante y de Newton."
   ]
  },
  {
   "cell_type": "markdown",
   "id": "55c9ac77",
   "metadata": {},
   "source": []
  }
 ],
 "metadata": {
  "kernelspec": {
   "display_name": "Python 3",
   "language": "python",
   "name": "python3"
  },
  "language_info": {
   "codemirror_mode": {
    "name": "ipython",
    "version": 3
   },
   "file_extension": ".py",
   "mimetype": "text/x-python",
   "name": "python",
   "nbconvert_exporter": "python",
   "pygments_lexer": "ipython3",
   "version": "3.11.9"
  }
 },
 "nbformat": 4,
 "nbformat_minor": 5
}
