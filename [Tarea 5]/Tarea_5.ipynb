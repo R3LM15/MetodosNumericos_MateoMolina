{
 "cells": [
  {
   "cell_type": "markdown",
   "id": "be2c362b",
   "metadata": {},
   "source": [
    "# Tarea 05: Ejercicios Unidad 02 B Método de Newton y de la Secante\n",
    "### CONJUNTO DE EJERCICIOS\n",
    "\n",
    "- Mateo Molina Moises Estrella\n",
    "\n",
    "**Link Repositorio:** https://github.com/R3LM15/MetodosNumericos_MateoMolina\n",
    "\n",
    "\n"
   ]
  },
  {
   "cell_type": "markdown",
   "id": "6a587d84",
   "metadata": {},
   "source": [
    "1. Sea 𝑓(𝑥) = $ -x^3 -cos(x) $ y $𝑝_0 = −1$. Use el método de Newton y de la Secante para encontrar 𝑝2. ¿Se podría usar $𝑝_0$ = 0?"
   ]
  },
  {
   "cell_type": "markdown",
   "id": "f5677e8c",
   "metadata": {},
   "source": [
    "### Método de Newton\n",
    "$$ x_n = x_{n-1} - \\frac{f(x_{n-1})}{f'(x_{n-1})}  , n \\ge  1$$\n",
    "- Dado $p_0$ = -1 \n",
    "\n",
    "𝑓(x)  = $ -x^3 -cos(x) $\n",
    "\n",
    "𝑓'(x) = $ -3x^2 + sen(x) $\n",
    "\n",
    "Iteración 1:  $$ x_1 = -1 - \\frac{0.45969}{-3.84147} = -0.88033$$\n",
    "\n",
    "𝑓(-1)  = $ -(-1)^3 -cos(-1) = 0.45969$\n",
    "\n",
    "𝑓'(-1) = $ -3(-1)^2 + sen(-1) = -3.84147$\n",
    "\n",
    "Iteración 2:  $$ x_2 = -0.88033 - \\frac{0.04534}{-3.09589} = -0.86568$$\n",
    "\n",
    "𝑓(-0.88033)  = $ -(-0.88033)^3 -cos(-0.88033) = 0.04534$\n",
    "\n",
    "𝑓'(-0.88033) = $ -3(-0.88033)^2 + sen(-0.88033) = -3.09589$\n",
    "\n",
    "Por lo tanto sabemos que $p_2 = -0.86568$\n",
    "\n",
    "- Dado $p_0$ = 0\n",
    "\n",
    "𝑓(0)  = $ -(0)^3 -cos(0) = -1 $\n",
    "\n",
    "𝑓'(0) = $ -3(0)^2 + sen(0) = 0 $\n",
    "\n",
    "El método de Newton falla, porque dividiríamos por cero.\n",
    "\n",
    "### Método de la Secante\n",
    "\n",
    "- Dado $p_0$ = -1 y eleguido $p_1$ = -1.5 \n",
    "\n",
    "$$ x_n = x_{n-1} - f(x_{n-1}) * \\frac{x_{n-1} - x_{n-2}}{f(x_{n-1})-f(x_{n-2})}  $$ \n",
    "\n",
    "Cálculos:  \n",
    "\n",
    "𝑓(-1.5)  = $ -(-1.5)^3 -cos(-1.5) = 3.30426 $\n",
    "\n",
    "𝑓(-1)  = $ -(-1)^3 -cos(-1) = 0.45969 $\n",
    "\n",
    "$$ x_2 = -1.5 - 3.30426 * \\frac{-1.5 - (-1)}{3.30426-0.45969} = -0.91919 $$ \n",
    "\n",
    "Por lo tanto sabemos que $p_2 = -0.91919$\n",
    "\n",
    "- Dado $p_0$ = 0 y eleguido $p_1$ = 1\n",
    "\n",
    "𝑓(0)  = $ -(0)^3 -cos(0) = -1 $\n",
    "\n",
    "𝑓(1)  = $ -(1)^3 -cos(1) = -1.54030 $\n",
    "\n",
    "$$ x_2 = 1 - (-1.5403) * \\frac{1 - 0}{-1.5403-(-1)} = -1.85082$$\n",
    "\n",
    "\n"
   ]
  },
  {
   "cell_type": "markdown",
   "id": "b5cfd2c5",
   "metadata": {},
   "source": [
    "2. Encuentre soluciones precisas dentro de $10^{-4}$ para los siguientes problemas. \n",
    "\n",
    "    a. $x^{3} - 2x^{2}-5 = 0$ , [1,4]      \n",
    "    \n",
    "     b. $x^{3} - 3x^{2} - 1 = 0$, [-3,-2]\n",
    "\n",
    "     c. $ x-cosx=0 $, [0,$\\pi$/2]\n",
    "\n",
    "     d. $ x-0.8-0.2senx =0 $,[0,$\\pi$/2]"
   ]
  },
  {
   "cell_type": "code",
   "execution_count": 1,
   "id": "8deafd4f",
   "metadata": {},
   "outputs": [],
   "source": [
    "import numpy as np\n",
    "## metodo de secante (Dos puntos)\n",
    "def secante(f, x0, x1, tol=1e-4, max_iter=100):\n",
    "    for i in range(max_iter):\n",
    "        fx0 = f(x0)\n",
    "        fx1 = f(x1)\n",
    "\n",
    "        if fx1 - fx0 == 0:\n",
    "            print(\"División por cero en iteración.\")\n",
    "\n",
    "        x2 = x1 - fx1 * (x1 - x0) / (fx1 - fx0)\n",
    "\n",
    "        if abs(x2 - x1) < tol:\n",
    "            return x2  # raíz aproximada\n",
    "\n",
    "        x0, x1 = x1, x2\n",
    "\n",
    "    print(\"No converge dentro del número máximo de iteraciones.\")\n"
   ]
  },
  {
   "cell_type": "code",
   "execution_count": 2,
   "id": "f0182ffd",
   "metadata": {},
   "outputs": [
    {
     "name": "stdout",
     "output_type": "stream",
     "text": [
      "a | Raíz aproximada: 2.690647447883773\n",
      "b | Raíz aproximada: 3.103803339266244\n",
      "c | Raíz aproximada: 0.739085133034638\n",
      "d | Raíz aproximada: 0.964333884548886\n"
     ]
    }
   ],
   "source": [
    "#a)\n",
    "# Definir la función f(x)\n",
    "def f(x):\n",
    "    return x**3-2*x**2-5\n",
    "\n",
    "a = secante(f, x0=1, x1=4)\n",
    "print(\"a | Raíz aproximada:\", a)\n",
    "\n",
    "#--------------------------------------------------------------\n",
    "\n",
    "#b)\n",
    "# Definir la función f(x)\n",
    "def f(x):\n",
    "    return x**3-3*x**2-1\n",
    "\n",
    "b = secante(f, x0=-3, x1=-2)\n",
    "print(\"b | Raíz aproximada:\", b)\n",
    "\n",
    "#--------------------------------------------------------------\n",
    "\n",
    "#c)\n",
    "# Definir la función f(x)\n",
    "def f(x):\n",
    "    return x-np.cos(x)\n",
    "\n",
    "c = secante(f, x0=0, x1=(np.pi/2))\n",
    "print(\"c | Raíz aproximada:\", c)\n",
    "\n",
    "#--------------------------------------------------------------\n",
    "\n",
    "#d)\n",
    "# Definir la función f(x)\n",
    "def f(x):\n",
    "    return x-0.8-0.2*np.sin(x)\n",
    "\n",
    "d = secante(f, x0=0, x1=(np.pi/2))\n",
    "print(\"d | Raíz aproximada:\", d)"
   ]
  },
  {
   "cell_type": "markdown",
   "id": "c1de7d43",
   "metadata": {},
   "source": [
    "3. Use los 2 métodos en esta sección para encontrar las soluciones dentro de $10^{-5}$ para los siguientes problemas.\n",
    "\n",
    "    a. $3x-e^{x}=0$ para $1 \\le  x \\le 2$\n",
    "\n",
    "    b. $ 2x +3cosx - e^{x} =0 $ para $ 1 \\le x \\le 2  $"
   ]
  },
  {
   "cell_type": "code",
   "execution_count": 3,
   "id": "43661364",
   "metadata": {},
   "outputs": [
    {
     "name": "stdout",
     "output_type": "stream",
     "text": [
      "\n",
      " a)\n",
      "| Newton-Raphson | Raíz aproximada: 1.5121345516685927\n",
      "| Secante | Raíz aproximada: 0.6190612866166071\n",
      "\n",
      " b)\n",
      "| Newton-Raphson | Raíz aproximada: 1.2397146979752176\n",
      "| Secante | Raíz aproximada: 1.239714698599015\n"
     ]
    }
   ],
   "source": [
    "from scipy.optimize import newton\n",
    "## A)\n",
    "\n",
    "def f(x):\n",
    "    return 3*x - np.exp(x)\n",
    "\n",
    "def fprime(x):\n",
    "    return 3 - np.exp(x)\n",
    "\n",
    "x1=1\n",
    "x0=2\n",
    "\n",
    "print(\"\\n a)\")\n",
    "a = newton(f, x0, fprime, tol=1e-5)\n",
    "print(\"| Newton-Raphson | Raíz aproximada:\", a)\n",
    "\n",
    "a = secante(f, x0, x1)\n",
    "print(\"| Secante | Raíz aproximada:\", a)\n",
    "\n",
    "## --------------------------------------------------------------------\n",
    "## B)\n",
    "\n",
    "def f(x):\n",
    "    return 2*x + 3*np.cos(x) -  np.exp(x)\n",
    "\n",
    "def fprime(x):\n",
    "    return 2 - 3*np.sin(x) - np.exp(x)\n",
    "\n",
    "x1=1\n",
    "x0=2\n",
    "\n",
    "print(\"\\n b)\")\n",
    "b = newton(f, x0, fprime, tol=1e-5)\n",
    "print(\"| Newton-Raphson | Raíz aproximada:\", b)\n",
    "\n",
    "b = secante(f, x0, x1)\n",
    "print(\"| Secante | Raíz aproximada:\", b)"
   ]
  },
  {
   "cell_type": "markdown",
   "id": "650eab7b",
   "metadata": {},
   "source": [
    "4. El polinomio de cuarto grado\n",
    "$$𝑓(𝑥) = 230𝑥^{4} + 18𝑥^{3} + 9𝑥^{2} − 221𝑥 − 9$$ \n",
    "tiene dos ceros reales, uno en [−1,0] y el otro en [0,1]. Intente aproximar estos ceros dentro de $10^{-6}$ con\n",
    "\n",
    "a. El método de la secante (use los extremos como las estimaciones iniciales)\n",
    "\n",
    "b. El método de Newton (use el punto medio como estimación inicial)"
   ]
  },
  {
   "cell_type": "code",
   "execution_count": 4,
   "id": "dd2780dc",
   "metadata": {},
   "outputs": [
    {
     "name": "stdout",
     "output_type": "stream",
     "text": [
      "\n",
      " a)\n",
      "| Secante | Raíz aproximada: -0.040659288315725135\n",
      "| Secante | Raíz aproximada: -0.04065928831557162\n",
      "\n",
      " b)\n",
      "| Newton-Raphson | Raíz aproximada: -0.04065928831575899\n",
      "| Newton-Raphson | Raíz aproximada: -0.040659288315758865\n"
     ]
    }
   ],
   "source": [
    "## A \n",
    "\n",
    "def f(x):\n",
    "    return 230*x**4+18*x**3 +9*x**2-221*x-9\n",
    "\n",
    "def fprime(x):\n",
    "    return 920*x**3+54*x**2 +18*x -221\n",
    "\n",
    "\n",
    "print(\"\\n a)\")\n",
    "a = secante(f, x0=-1, x1=0,tol=1e-6)\n",
    "print(\"| Secante | Raíz aproximada:\", a)\n",
    "\n",
    "a = secante(f, x0=0, x1=1,tol=1e-6)\n",
    "print(\"| Secante | Raíz aproximada:\", a)\n",
    "\n",
    "## --------------------------------------------------------------------\n",
    "## B)\n",
    "\n",
    "\n",
    "print(\"\\n b)\")\n",
    "x0 = - 0.5\n",
    "b = newton(f, x0, fprime, tol=1e-6)\n",
    "print(\"| Newton-Raphson | Raíz aproximada:\", b)\n",
    "x0 = 0.5\n",
    "b = newton(f, x0, fprime, tol=1e-6)\n",
    "print(\"| Newton-Raphson | Raíz aproximada:\", b)"
   ]
  },
  {
   "cell_type": "markdown",
   "id": "c127718d",
   "metadata": {},
   "source": [
    "5. La funcion $f(x)=tan(\\pi x)-6 $ tiene cero en $1 / \\pi arcontangente 6 \\approx 0.447431543$. Sea $p_0 = 0$ y $p_1 = 0.48$ y use 10 iteraciones en cada uno de los siguientes métodos para aproximar esta raíz. ¿Cuál método es más eficaz y por qué?\n",
    "\n",
    "    a. método de bisección\n",
    "\n",
    "    b. método de Newton\n",
    "\n",
    "    c. método de la secante\n"
   ]
  },
  {
   "cell_type": "code",
   "execution_count": 5,
   "id": "06d8efcd",
   "metadata": {},
   "outputs": [],
   "source": [
    "# Algoritmo de bisección\n",
    "def bisection_method(f, a, b, tol=1e-5, max_iter=100):\n",
    "    # Verificar que los signos de f(a) y f(b) sean opuestos\n",
    "    if f(a) * f(b) >= 0:\n",
    "        print(\"No se puede aplicar el método de bisección. Los signos de f(a) y f(b) deben ser opuestos.\")\n",
    "        return None\n",
    "    \n",
    "    iter_count = 0\n",
    "    while (b - a) / 2.0 > tol:\n",
    "        # Punto medio\n",
    "        c = (a + b) / 2.0\n",
    "        # Verificar si el punto medio es una raíz\n",
    "        if f(c) == 0:\n",
    "            return c\n",
    "        # Actualizar el intervalo\n",
    "        elif f(c) * f(a) < 0:\n",
    "            b = c\n",
    "        else:\n",
    "            a = c\n",
    "        \n",
    "        iter_count += 1\n",
    "        if iter_count > max_iter:\n",
    "            print(\"Se alcanzó el número máximo de iteraciones.\")\n",
    "            return None\n",
    "    \n",
    "    return (a + b) / 2.0"
   ]
  },
  {
   "cell_type": "code",
   "execution_count": 6,
   "id": "6e8d3c4d",
   "metadata": {},
   "outputs": [
    {
     "name": "stdout",
     "output_type": "stream",
     "text": [
      "A) | Bisección | Raíz aproximada: 0.44742919921874996\n",
      "B) | Newton-Raphson | Raíz aproximada: 0.4474315432887487\n",
      "No converge dentro del número máximo de iteraciones.\n",
      "C) | Secante | Raíz aproximada: None\n"
     ]
    }
   ],
   "source": [
    "def f(x):\n",
    "    return np.tan(np.pi*x) - 6\n",
    "\n",
    "def fprime(x):\n",
    "    return np.pi/(np.cos(np.pi * x) ** 2)\n",
    "\n",
    "a = bisection_method(f, 0, 0.48, max_iter=100)\n",
    "print(\"A) | Bisección | Raíz aproximada:\", a)\n",
    "\n",
    "x0 = 0.48\n",
    "b = newton(f, x0, fprime, maxiter=10)\n",
    "print(\"B) | Newton-Raphson | Raíz aproximada:\", b)\n",
    "\n",
    "\n",
    "c = secante(f, x0=0, x1=0.48, max_iter=100)\n",
    "print(\"C) | Secante | Raíz aproximada:\", c)"
   ]
  },
  {
   "cell_type": "markdown",
   "id": "f48c4c98",
   "metadata": {},
   "source": [
    "6. La función descrita por $f(x) = ln(x^{2}+1) -e^{0.4x} cos𝜋𝑥$ tiene un número infinito de ceros.\n",
    "\n",
    "    a. Determine, dentro de $10^{-6}$, el único cero negativo.\n",
    "\n",
    "    b. Determine, dentro de $10^{−6}$, los cuatro ceros positivos más pequeños.\n",
    "\n",
    "    c. Determine una aproximación inicial razonable para encontrar el enésimo cero positivo más pequeño de 𝑓. [Sugerencia: Dibuje una gráfica aproximada de 𝑓.]\n",
    "\n",
    "    d. Use la parte c) para determinar, dentro de $10^{−6}$, el vigesimoquinto cero positivo más pequeño de 𝑓.\n"
   ]
  },
  {
   "cell_type": "code",
   "execution_count": 7,
   "id": "37fa6d0c",
   "metadata": {},
   "outputs": [
    {
     "data": {
      "image/png": "[encoded data removed]",
      "text/plain": [
       "<Figure size 640x480 with 1 Axes>"
      ]
     },
     "metadata": {},
     "output_type": "display_data"
    }
   ],
   "source": [
    "import matplotlib.pyplot as plt\n",
    "import numpy as np\n",
    "\n",
    "# Definir la función f(x)\n",
    "def f(x):\n",
    "    return np.log(x**2 + 1) - np.exp(0.4 * x) * np.cos(np.pi * x)\n",
    "\n",
    "# Definir el rango de valores para x\n",
    "x = np.linspace(-2, 7, 800)\n",
    "y = f(x)\n",
    "\n",
    "# Graficar la función con la línea de puntos\n",
    "plt.plot(x, y, label=r'$f(x) = ln(x^{2}+1) -e^{0.4x} cos(𝜋𝑥)$', color='cyan')\n",
    "\n",
    "# Agregar título y etiquetas\n",
    "plt.title('Gráfico de f(x)')\n",
    "plt.xlabel('x')\n",
    "plt.ylabel('f(x)')\n",
    "\n",
    "# Mostrar la cuadrícula y los ejes\n",
    "plt.grid(True)\n",
    "plt.axhline(0, color='black', linewidth=0.8)  # Eje X\n",
    "plt.axvline(0, color='black', linewidth=0.8)  # Eje Y\n",
    "\n",
    "# Agregar leyenda\n",
    "plt.legend()\n",
    "\n",
    "# Mostrar la gráfica\n",
    "plt.show()  "
   ]
  },
  {
   "cell_type": "code",
   "execution_count": 8,
   "id": "3f534e98",
   "metadata": {},
   "outputs": [
    {
     "name": "stdout",
     "output_type": "stream",
     "text": [
      "A) | Bisección | Raíz aproximada: -0.4341421127319336\n",
      "A) | Bisección | Raíz aproximada: 0.4506559371948242\n",
      "A) | Bisección | Raíz aproximada: 1.7447385787963867\n",
      "A) | Bisección | Raíz aproximada: 2.2383203506469727\n",
      "A) | Bisección | Raíz aproximada: 3.7090415954589844\n"
     ]
    }
   ],
   "source": [
    "def f(x):\n",
    "    return np.log(x**2 + 1) - np.exp(0.4 * x) * np.cos(np.pi * x)\n",
    "\n",
    "\n",
    "a = bisection_method(f, -1, 0,tol=1e-6)\n",
    "print(\"A) | Bisección | Raíz aproximada:\", a)\n",
    "\n",
    "b = bisection_method(f, 0, 1,tol=1e-6)\n",
    "print(\"A) | Bisección | Raíz aproximada:\", b)\n",
    "\n",
    "c = bisection_method(f, 1, 2,tol=1e-6)\n",
    "print(\"A) | Bisección | Raíz aproximada:\", c)\n",
    "\n",
    "d = bisection_method(f, 2, 2.5,tol=1e-6)\n",
    "print(\"A) | Bisección | Raíz aproximada:\", d)\n",
    "\n",
    "e = bisection_method(f, 3.5, 3.9,tol=1e-6)\n",
    "print(\"A) | Bisección | Raíz aproximada:\", e)"
   ]
  },
  {
   "cell_type": "markdown",
   "id": "996b549c",
   "metadata": {},
   "source": [
    "7. La función 𝑓(𝑥) = $ 𝑥^{1/3} $ tiene raíz en 𝑥 = 0. Usando el punto de inicio de 𝑥 = 1 y $𝑝_0$ = 5, $𝑝_1$ = 0.5 para el método de secante, compare los resultados de los métodos de la secante y de Newton."
   ]
  },
  {
   "cell_type": "code",
   "execution_count": 9,
   "id": "95434b7c",
   "metadata": {},
   "outputs": [
    {
     "name": "stderr",
     "output_type": "stream",
     "text": [
      "C:\\Users\\Usuario\\AppData\\Local\\Temp\\ipykernel_22284\\2201156426.py:6: RuntimeWarning: invalid value encountered in power\n",
      "  return x**(1/3)\n"
     ]
    },
    {
     "data": {
      "image/png": "[encoded data removed]",
      "text/plain": [
       "<Figure size 640x480 with 1 Axes>"
      ]
     },
     "metadata": {},
     "output_type": "display_data"
    }
   ],
   "source": [
    "import matplotlib.pyplot as plt\n",
    "import numpy as np\n",
    "\n",
    "# Definir la función f(x)\n",
    "def f(x):\n",
    "    return x**(1/3)\n",
    "\n",
    "# Definir el rango de valores para x\n",
    "x = np.linspace(-5, 4, 800)\n",
    "y = f(x)\n",
    "\n",
    "# Graficar la función con la línea de puntos\n",
    "plt.plot(x, y, label=r'$f(x) =𝑥^{1/3} $', color='cyan')\n",
    "\n",
    "# Agregar título y etiquetas\n",
    "plt.title('Gráfico de f(x)')\n",
    "plt.xlabel('x')\n",
    "plt.ylabel('f(x)')\n",
    "\n",
    "# Mostrar la cuadrícula y los ejes\n",
    "plt.grid(True)\n",
    "plt.axhline(0, color='black', linewidth=0.8)  # Eje X\n",
    "plt.axvline(0, color='black', linewidth=0.8)  # Eje Y\n",
    "\n",
    "# Agregar leyenda\n",
    "plt.legend()\n",
    "\n",
    "# Mostrar la gráfica\n",
    "plt.show()\n"
   ]
  },
  {
   "cell_type": "code",
   "execution_count": 10,
   "id": "acd69554",
   "metadata": {},
   "outputs": [
    {
     "name": "stderr",
     "output_type": "stream",
     "text": [
      "C:\\Users\\Usuario\\AppData\\Local\\Temp\\ipykernel_22284\\3167459035.py:2: RuntimeWarning: invalid value encountered in scalar power\n",
      "  return x**(1/3)\n",
      "C:\\Users\\Usuario\\AppData\\Local\\Temp\\ipykernel_22284\\3167459035.py:5: RuntimeWarning: invalid value encountered in scalar power\n",
      "  return (1/3) * x**(-2/3)\n"
     ]
    },
    {
     "ename": "RuntimeError",
     "evalue": "Failed to converge after 50 iterations, value is nan.",
     "output_type": "error",
     "traceback": [
      "\u001b[1;31m---------------------------------------------------------------------------\u001b[0m",
      "\u001b[1;31mRuntimeError\u001b[0m                              Traceback (most recent call last)",
      "Cell \u001b[1;32mIn[10], line 7\u001b[0m\n\u001b[0;32m      5\u001b[0m     \u001b[38;5;28;01mreturn\u001b[39;00m (\u001b[38;5;241m1\u001b[39m\u001b[38;5;241m/\u001b[39m\u001b[38;5;241m3\u001b[39m) \u001b[38;5;241m*\u001b[39m x\u001b[38;5;241m*\u001b[39m\u001b[38;5;241m*\u001b[39m(\u001b[38;5;241m-\u001b[39m\u001b[38;5;241m2\u001b[39m\u001b[38;5;241m/\u001b[39m\u001b[38;5;241m3\u001b[39m)\n\u001b[0;32m      6\u001b[0m x0 \u001b[38;5;241m=\u001b[39m \u001b[38;5;241m1\u001b[39m\n\u001b[1;32m----> 7\u001b[0m a \u001b[38;5;241m=\u001b[39m \u001b[43mnewton\u001b[49m\u001b[43m(\u001b[49m\u001b[43mf\u001b[49m\u001b[43m,\u001b[49m\u001b[43m \u001b[49m\u001b[43mx0\u001b[49m\u001b[43m,\u001b[49m\u001b[43m \u001b[49m\u001b[43mfprime\u001b[49m\u001b[43m)\u001b[49m\n\u001b[0;32m      8\u001b[0m \u001b[38;5;28mprint\u001b[39m(\u001b[38;5;124m\"\u001b[39m\u001b[38;5;124m-> | Newton-Raphson | Raíz aproximada:\u001b[39m\u001b[38;5;124m\"\u001b[39m, a)\n\u001b[0;32m     10\u001b[0m b \u001b[38;5;241m=\u001b[39m secante(f, x0\u001b[38;5;241m=\u001b[39m\u001b[38;5;241m5\u001b[39m, x1\u001b[38;5;241m=\u001b[39m\u001b[38;5;241m0.5\u001b[39m)\n",
      "File \u001b[1;32m~\\AppData\\Local\\Packages\\PythonSoftwareFoundation.Python.3.11_qbz5n2kfra8p0\\LocalCache\\local-packages\\Python311\\site-packages\\scipy\\optimize\\_zeros_py.py:391\u001b[0m, in \u001b[0;36mnewton\u001b[1;34m(func, x0, fprime, args, tol, maxiter, fprime2, x1, rtol, full_output, disp)\u001b[0m\n\u001b[0;32m    388\u001b[0m \u001b[38;5;28;01mif\u001b[39;00m disp:\n\u001b[0;32m    389\u001b[0m     msg \u001b[38;5;241m=\u001b[39m (\u001b[38;5;124m\"\u001b[39m\u001b[38;5;124mFailed to converge after \u001b[39m\u001b[38;5;132;01m%d\u001b[39;00m\u001b[38;5;124m iterations, value is \u001b[39m\u001b[38;5;132;01m%s\u001b[39;00m\u001b[38;5;124m.\u001b[39m\u001b[38;5;124m\"\u001b[39m\n\u001b[0;32m    390\u001b[0m            \u001b[38;5;241m%\u001b[39m (itr \u001b[38;5;241m+\u001b[39m \u001b[38;5;241m1\u001b[39m, p))\n\u001b[1;32m--> 391\u001b[0m     \u001b[38;5;28;01mraise\u001b[39;00m \u001b[38;5;167;01mRuntimeError\u001b[39;00m(msg)\n\u001b[0;32m    393\u001b[0m \u001b[38;5;28;01mreturn\u001b[39;00m _results_select(full_output, (p, funcalls, itr \u001b[38;5;241m+\u001b[39m \u001b[38;5;241m1\u001b[39m, _ECONVERR), method)\n",
      "\u001b[1;31mRuntimeError\u001b[0m: Failed to converge after 50 iterations, value is nan."
     ]
    }
   ],
   "source": [
    "def f(x):\n",
    "    return x**(1/3)\n",
    "\n",
    "def fprime(x):\n",
    "    return (1/3) * x**(-2/3)\n",
    "x0 = 1\n",
    "a = newton(f, x0, fprime)\n",
    "print(\"-> | Newton-Raphson | Raíz aproximada:\", a)\n",
    "\n",
    "b = secante(f, x0=5, x1=0.5)\n",
    "print(\"-> | Secante | Raíz aproximada:\", b)"
   ]
  }
 ],
 "metadata": {
  "kernelspec": {
   "display_name": "Python 3",
   "language": "python",
   "name": "python3"
  },
  "language_info": {
   "codemirror_mode": {
    "name": "ipython",
    "version": 3
   },
   "file_extension": ".py",
   "mimetype": "text/x-python",
   "name": "python",
   "nbconvert_exporter": "python",
   "pygments_lexer": "ipython3",
   "version": "3.11.9"
  }
 },
 "nbformat": 4,
 "nbformat_minor": 5
}
