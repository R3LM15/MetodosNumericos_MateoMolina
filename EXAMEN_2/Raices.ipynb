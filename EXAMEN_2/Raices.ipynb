{
 "cells": [
  {
   "cell_type": "code",
   "execution_count": 4,
   "id": "3693e1c1",
   "metadata": {},
   "outputs": [
    {
     "name": "stdout",
     "output_type": "stream",
     "text": [
      "Raíces con bisección: [-4.         -1.00000147  1.5                nan         nan]\n",
      "Raíces con Newton: [-4.         -0.99999559  1.5                nan         nan]\n"
     ]
    }
   ],
   "source": [
    "import numpy as np\n",
    "from scipy.optimize import bisect, newton\n",
    "\n",
    "# Definir la función\n",
    "def f(x):\n",
    "    return x**5 + 5.5*x**4 + 4.5*x**3 - 9.5*x**2 - 15.5*x - 6\n",
    "\n",
    "# Buscar intervalos donde la función cambia de signo\n",
    "x_vals = np.linspace(-10, 5, 1000)\n",
    "sign_changes = []\n",
    "for i in range(len(x_vals)-1):\n",
    "    if f(x_vals[i]) * f(x_vals[i+1]) < 0:\n",
    "        sign_changes.append((x_vals[i], x_vals[i+1]))\n",
    "\n",
    "# Método de bisección\n",
    "roots_bisect = []\n",
    "for a, b in sign_changes:\n",
    "    try:\n",
    "        root = bisect(f, a, b)\n",
    "        if not any(np.isclose(root, r, atol=1e-6) for r in roots_bisect):\n",
    "            roots_bisect.append(root)\n",
    "    except Exception:\n",
    "        pass\n",
    "roots_bisect = np.sort(roots_bisect)\n",
    "while len(roots_bisect) < 5:\n",
    "    roots_bisect = np.append(roots_bisect, np.nan)\n",
    "print(\"Raíces con bisección:\", roots_bisect)\n",
    "\n",
    "# Método de Newton\n",
    "roots_newton = []\n",
    "for a, b in sign_changes:\n",
    "    x0 = (a + b) / 2\n",
    "    try:\n",
    "        root = newton(f, x0)\n",
    "        if not any(np.isclose(root, r, atol=1e-6) for r in roots_newton):\n",
    "            roots_newton.append(root)\n",
    "    except Exception:\n",
    "        pass\n",
    "roots_newton = np.sort(roots_newton)\n",
    "while len(roots_newton) < 5:\n",
    "    roots_newton = np.append(roots_newton, np.nan)\n",
    "print(\"Raíces con Newton:\", roots_newton)"
   ]
  }
 ],
 "metadata": {
  "kernelspec": {
   "display_name": "Python 3",
   "language": "python",
   "name": "python3"
  },
  "language_info": {
   "codemirror_mode": {
    "name": "ipython",
    "version": 3
   },
   "file_extension": ".py",
   "mimetype": "text/x-python",
   "name": "python",
   "nbconvert_exporter": "python",
   "pygments_lexer": "ipython3",
   "version": "3.11.9"
  }
 },
 "nbformat": 4,
 "nbformat_minor": 5
}
