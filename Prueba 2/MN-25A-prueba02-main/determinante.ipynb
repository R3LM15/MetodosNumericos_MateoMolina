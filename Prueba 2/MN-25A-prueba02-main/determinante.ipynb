{
 "cells": [
  {
   "cell_type": "code",
   "execution_count": 2,
   "metadata": {},
   "outputs": [],
   "source": [
    "%load_ext autoreload"
   ]
  },
  {
   "cell_type": "markdown",
   "metadata": {},
   "source": [
    "# Examen"
   ]
  },
  {
   "cell_type": "markdown",
   "metadata": {},
   "source": [
    "## Determinante"
   ]
  },
  {
   "cell_type": "code",
   "execution_count": 12,
   "metadata": {},
   "outputs": [],
   "source": [
    "%autoreload 2\n",
    "from src import (\n",
    "    eliminacion_gaussiana,\n",
    "    descomposicion_LU,\n",
    "    resolver_LU,\n",
    "    matriz_aumentada,\n",
    "    separar_m_aumentada,\n",
    ")\n",
    "\n",
    "\n",
    "# ####################################################################\n",
    "def calc_determinante(A: list[list[float]]) -> float:\n",
    "    \"\"\"Calcula el determinante de la matriz A usando eliminación gaussiana.\n",
    "\n",
    "    Parameters:\n",
    "    A (list[list[float]]): Matriz cuadrada de tamaño n x n\n",
    "\n",
    "    Returns:\n",
    "    float: Determinante de la matriz A\n",
    "    \"\"\"\n",
    "    import copy\n",
    "    n = len(A)\n",
    "    mat = copy.deepcopy(A)  # No modificar la matriz original\n",
    "    intercambio_paridad = 1  # Lleva cuenta de los intercambios de fila\n",
    "\n",
    "    for i in range(n):\n",
    "        # Si el pivote es cero, intercambiar filas con una fila inferior\n",
    "        if mat[i][i] == 0:\n",
    "            for j in range(i + 1, n):\n",
    "                if mat[j][i] != 0:\n",
    "                    mat[i], mat[j] = mat[j], mat[i]\n",
    "                    intercambio_paridad *= -1  # Cambio de signo en determinante\n",
    "                    break\n",
    "            else:\n",
    "                return 0  # Toda la columna es cero ⇒ determinante 0\n",
    "\n",
    "        # Eliminar hacia abajo\n",
    "        for j in range(i + 1, n):\n",
    "            factor = mat[j][i] / mat[i][i]\n",
    "            for k in range(i, n):\n",
    "                mat[j][k] -= factor * mat[i][k]\n",
    "\n",
    "    # Imprimir matriz triangular superior resultante\n",
    "    print(\"Matriz triangular superior:\")\n",
    "    for fila in mat:\n",
    "        print(fila)\n",
    "\n",
    "    # Multiplicar elementos de la diagonal principal\n",
    "    det = intercambio_paridad\n",
    "    for i in range(n):\n",
    "        det *= mat[i][i]\n",
    "    \n",
    "    return det\n"
   ]
  },
  {
   "cell_type": "markdown",
   "metadata": {},
   "source": [
    "# Ejercicio 1"
   ]
  },
  {
   "cell_type": "code",
   "execution_count": 13,
   "metadata": {},
   "outputs": [
    {
     "name": "stdout",
     "output_type": "stream",
     "text": [
      "Matriz triangular superior:\n",
      "[-4, 2, -4, -4, 1, 2, 5, 3, 5, 1]\n",
      "[0.0, 0.5, 3.0, 2.0, 0.25, -1.5, 4.25, 0.75, 2.25, 5.25]\n",
      "[0.0, 0.0, -54.0, -30.0, -6.5, 27.0, -55.5, -5.5, -23.5, -73.5]\n",
      "[0.0, 0.0, 0.0, -4.444444444444445, -4.296296296296296, 2.0, -7.222222222222223, -3.481481481481482, -8.148148148148149, -7.888888888888889]\n",
      "[0.0, 0.0, 0.0, 0.0, 5.533333333333332, 0.20000000000000018, 7.5, 2.466666666666667, 6.666666666666666, 3.0999999999999996]\n",
      "[0.0, 0.0, 0.0, 0.0, 0.0, -3.3042168674698793, 10.591867469879519, 1.8313253012048194, 11.94277108433735, 6.284638554216867]\n",
      "[0.0, 0.0, 0.0, 0.0, -2.220446049250313e-16, 0.0, -0.5259799453053802, -0.24521422060164166, -5.886964448495901, 1.71194165907019]\n",
      "[0.0, 0.0, 0.0, 0.0, 0.0, 0.0, 0.0, -2.8999133448873513, 73.02642980935848, -20.264731369150667]\n",
      "[0.0, 0.0, 0.0, 0.0, 0.0, 0.0, 0.0, 0.0, -41.74189451665903, 6.033318392350145]\n",
      "[0.0, 0.0, 0.0, 0.0, 0.0, 0.0, 0.0, 0.0, 0.0, -17.740763874099137]\n"
     ]
    },
    {
     "data": {
      "text/plain": [
       "9912776.000000015"
      ]
     },
     "execution_count": 13,
     "metadata": {},
     "output_type": "execute_result"
    }
   ],
   "source": [
    "A1 = [\n",
    "    [-4, 2, -4, -4, 1, 2, 5, 3, 5, 1],\n",
    "    [1, 0, 4, 3, 0, -2, 3, 0, 1, 5],\n",
    "    [5, 5, -4, 5, -4, 2, 2, 2, 4, 4],\n",
    "    [-1, 3, 4, -1, -4, 0, 5, 0, 0, 5],\n",
    "    [4, 1, 4, 2, 0, 0, 3, -1, 0, 2],\n",
    "    [2, -2, 1, -1, -2, -3, 2, -2, 4, -1],\n",
    "    [3, -2, -3, -2, -1, -3, 5, -1, 5, 0],\n",
    "    [3, 4, -3, 3, -2, 2, -4, -4, 1, 5],\n",
    "    [-4, 0, 3, 3, -3, -2, -2, 0, 5, -4],\n",
    "    [-2, 4, 4, -2, -1, 1, 5, -1, 3, -3],\n",
    "]\n",
    "calc_determinante(A1)"
   ]
  },
  {
   "cell_type": "markdown",
   "metadata": {},
   "source": [
    "# Ejercicio 2"
   ]
  },
  {
   "cell_type": "code",
   "execution_count": 14,
   "metadata": {},
   "outputs": [
    {
     "name": "stdout",
     "output_type": "stream",
     "text": [
      "Matriz triangular superior:\n",
      "[2, 2, 4, 5, -2, -3, 2, -2]\n",
      "[0.0, 3.0, -7.0, -8.0, 0.0, 5.0, 3.0, 5.0]\n",
      "[0.0, 0.0, 5.0, 4.5, 0.0, -0.5, -3.0, 3.0]\n",
      "[0.0, 0.0, 0.0, 1.2666666666666666, -3.0, 5.266666666666667, -0.3999999999999997, 0.7333333333333327]\n",
      "[0.0, 0.0, 0.0, 4.440892098500626e-16, 14.289473684210526, -7.052631578947368, -1.894736842105264, 7.973684210526318]\n",
      "[0.0, 0.0, 0.0, 0.0, 0.0, 14.563535911602216, -13.878453038674033, 9.07182320441989]\n",
      "[0.0, 0.0, 0.0, 0.0, 0.0, 0.0, 24.48609003540717, 17.603439554881145]\n",
      "[0.0, 0.0, 0.0, -8.881784197001252e-16, 0.0, 0.0, 0.0, -12.092513788758293]\n"
     ]
    },
    {
     "data": {
      "text/plain": [
       "2341546.000000001"
      ]
     },
     "execution_count": 14,
     "metadata": {},
     "output_type": "execute_result"
    }
   ],
   "source": [
    "A2 = [\n",
    "    [2, 2, 4, 5, -2, -3, 2, -2],\n",
    "    [-1, -1, 3, 2, 1, 1, -4, 4],\n",
    "    [2, 5, -3, -3, -2, 2, 5, 3],\n",
    "    [-2, -4, 0, 1, -1, 5, -4, -1],\n",
    "    [1, -2, -1, 5, 5, 2, 1, -2],\n",
    "    [5, 4, 0, 3, 4, -1, -3, -2],\n",
    "    [4, -4, 1, 2, 3, 3, -1, 3],\n",
    "    [-2, 1, -3, 0, 5, 4, 4, -4],\n",
    "]\n",
    "calc_determinante(A2)"
   ]
  },
  {
   "cell_type": "code",
   "execution_count": null,
   "metadata": {},
   "outputs": [],
   "source": []
  }
 ],
 "metadata": {
  "kernelspec": {
   "display_name": "Python 3",
   "language": "python",
   "name": "python3"
  },
  "language_info": {
   "codemirror_mode": {
    "name": "ipython",
    "version": 3
   },
   "file_extension": ".py",
   "mimetype": "text/x-python",
   "name": "python",
   "nbconvert_exporter": "python",
   "pygments_lexer": "ipython3",
   "version": "3.11.9"
  }
 },
 "nbformat": 4,
 "nbformat_minor": 2
}
