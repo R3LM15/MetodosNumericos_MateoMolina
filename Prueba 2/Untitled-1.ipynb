{
 "cells": [
  {
   "cell_type": "markdown",
   "id": "3508fa88",
   "metadata": {},
   "source": [
    "###  Prueba 2\n",
    "\n",
    "- Mateo Molina Moises Estrella\n",
    "\n",
    "**Link Repositorio:** https://github.com/R3LM15/MetodosNumericos_MateoMolina\n",
    "\n"
   ]
  },
  {
   "cell_type": "code",
   "execution_count": null,
   "id": "a54c4b6d",
   "metadata": {},
   "outputs": [],
   "source": []
  }
 ],
 "metadata": {
  "kernelspec": {
   "display_name": "Python 3",
   "language": "python",
   "name": "python3"
  },
  "language_info": {
   "codemirror_mode": {
    "name": "ipython",
    "version": 3
   },
   "file_extension": ".py",
   "mimetype": "text/x-python",
   "name": "python",
   "nbconvert_exporter": "python",
   "pygments_lexer": "ipython3",
   "version": "3.11.9"
  }
 },
 "nbformat": 4,
 "nbformat_minor": 5
}
