{
 "cells": [
  {
   "cell_type": "markdown",
   "id": "0e3626cc",
   "metadata": {},
   "source": [
    "# [Actividad extracurricular 3b] Complejidad computacional y el problema PvsNP\n",
    "\n",
    "- Mateo Molina Moises Estrella\n",
    "\n",
    "**Link Repositorio:** https://github.com/R3LM15/MetodosNumericos_MateoMolina\n",
    "\n"
   ]
  },
  {
   "cell_type": "markdown",
   "id": "8b989cc7",
   "metadata": {},
   "source": [
    "### Objetivo \n",
    "\n",
    "Conocer y entender sobre la complejidad computacional. \n",
    "\n",
    "Familiarizarse con el problema de P vs NP. \n",
    "\n",
    "### Indicaciones\n",
    "- Investigue sobre la notación big O. Esta medida es ¿para el peor escenario, mejor escenario, o el promedio?\n",
    "- ¿Cuál es la diferencia con little o, y las otras funciones big Omega Ω, big Theta Θ?\n",
    "- Investigue sobre el problema P vs NP, describa ejemplos de algoritmos en cada caso. "
   ]
  },
  {
   "cell_type": "markdown",
   "id": "0590bf23",
   "metadata": {},
   "source": [
    "### 1. ¿Qué es?\n",
    "\n",
    "La notación Big O es una forma de describir la complejidad algorítmica o el crecimiento del tiempo (o espacio) que un algoritmo necesita en función del tamaño de su entrada (n).\n",
    "\n",
    "**Big O se usa para representar el peor escenario (worst-case).**"
   ]
  },
  {
   "cell_type": "markdown",
   "id": "eefe343f",
   "metadata": {},
   "source": [
    "### 2. Diferencias entre Big O, Little o, Big Omega (Ω), y Big Theta (Θ)\n",
    "\n",
    "| Notación          | Qué representa                                | Escenario típico                               |\n",
    "| ----------------- | --------------------------------------------- | ---------------------------------------------- |\n",
    "| **Big O (O)**     | Cota **superior** asintótica (límite máximo)  | Peor caso                                      |\n",
    "| **Little o (o)**  | Cota superior **estricta**, no igualable      | Crecimiento estrictamente menor (sin igualdad) |\n",
    "| **Big Omega (Ω)** | Cota **inferior** asintótica                  | Mejor caso                                     |\n",
    "| **Big Theta (Θ)** | Cota **ajustada** (superior e inferior igual) | Comportamiento promedio o exacto asintótico    |\n"
   ]
  },
  {
   "cell_type": "markdown",
   "id": "db64f6ce",
   "metadata": {},
   "source": [
    "### 3.El problema P vs NP:\n",
    "\n",
    "Es una de las preguntas abiertas más importantes en ciencias de la computación y matemáticas.\n",
    "\n",
    "P (Polynomial time): Clase de problemas que se pueden resolver en tiempo polinómico (rápidamente) por una máquina determinista.\n",
    "\n",
    "NP (Nondeterministic Polynomial time): Clase de problemas donde una solución propuesta puede ser verificada en tiempo polinómico, aunque no se sabe si se puede encontrar rápido.\n",
    "\n",
    "Pregunta central:\n",
    "¿Todo problema cuya solución puede ser verificada rápidamente (NP) también puede ser resuelto rápidamente (P)?\n",
    "\n",
    "En otras palabras: ¿P = NP?\n",
    "\n",
    "- **Ejemplos de algoritmos**\n",
    "\n",
    "| Categoría | Ejemplo                            | Descripción                                                                                            |\n",
    "| --------- | ---------------------------------- | ------------------------------------------------------------------------------------------------------ |\n",
    "| **P**     | Búsqueda binaria                   | Se resuelve en O(log n), tiempo polinómico.                                                            |\n",
    "|           | Ordenamiento por mergesort         | O(n log n), es eficiente y rápido.                                                                     |\n",
    "|           | Dijkstra para caminos mínimos      | O(V²) o mejor con colas de prioridad.                                                                  |\n",
    "| **NP**    | Problema del viajante (TSP)        | Verificar una ruta dada es rápido, pero encontrar la ruta óptima no se conoce un algoritmo polinómico. |\n",
    "|           | Problema de satisfacibilidad (SAT) | Verificar una solución dada es rápido, pero resolverlo en general es NP-completo.                      |\n"
   ]
  },
  {
   "cell_type": "markdown",
   "id": "9765682e",
   "metadata": {},
   "source": []
  }
 ],
 "metadata": {
  "kernelspec": {
   "display_name": "Python 3",
   "language": "python",
   "name": "python3"
  },
  "language_info": {
   "codemirror_mode": {
    "name": "ipython",
    "version": 3
   },
   "file_extension": ".py",
   "mimetype": "text/x-python",
   "name": "python",
   "nbconvert_exporter": "python",
   "pygments_lexer": "ipython3",
   "version": "3.11.9"
  }
 },
 "nbformat": 4,
 "nbformat_minor": 5
}
