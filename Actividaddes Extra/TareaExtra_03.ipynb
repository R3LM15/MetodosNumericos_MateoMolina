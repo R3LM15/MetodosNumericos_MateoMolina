{
 "cells": [
  {
   "cell_type": "markdown",
   "id": "0e3626cc",
   "metadata": {},
   "source": [
    "# [Actividad extracurricular 1b] Teoremas de Incompletitud\n",
    "\n",
    "- Mateo Molina Moises Estrella\n",
    "\n",
    "**Link Repositorio:** https://github.com/R3LM15/MetodosNumericos_MateoMolina\n",
    "\n"
   ]
  },
  {
   "cell_type": "markdown",
   "id": "8b989cc7",
   "metadata": {},
   "source": [
    "### Objetivo \n",
    "Conocer y analizar sobre los teoremas de Incompletitud de Kurt Gödel. \n",
    "\n",
    "### Indicaciones\n",
    "- Vea un video sobre los Teoremas de incompletitud. \n",
    "- Analice sobre los escenarios en los que se aplica los teoremas. \n",
    "- Divague sobre las implicaciones del teorema. "
   ]
  },
  {
   "cell_type": "markdown",
   "id": "99186873",
   "metadata": {},
   "source": [
    "### **Link Video:**\n",
    "\n",
    "https://www.youtube.com/watch?v=6oXs7Yi4tGY"
   ]
  },
  {
   "cell_type": "markdown",
   "id": "5a82f436",
   "metadata": {},
   "source": [
    "### **Analisis e Implicaciones**\n",
    "\n",
    "Podriamos afirmar que un sistema es ideal o perfecto, cuando cumple 3 requisitos fundamentales donde:\n",
    "\n",
    "1. No Redundante ( Sin axiomas de más  )\n",
    "\n",
    "2. Consistente  ( Sin contradicciones )\n",
    "\n",
    "3. Completo     ( Todo tiene respuesta )\n",
    "\n",
    "Los teoremas de Gödel demuestran que las matemáticas tienen límites fundamentales. En cualquier sistema formal suficientemente complejo (como la aritmética), si el sistema es coherente, no puede ser completo, siempre habrá verdades que no se pueden demostrar usando solo las reglas del sistema.\n",
    "\n",
    "Además, el propio sistema no puede probar que es coherente sin salirse de sí mismo. Esto rompe la idea de que las matemáticas pueden ser totalmente autosuficientes y completamente demostrables desde principios básicos.\n",
    "\n",
    "Gödel demostró que incluso los sistemas más estrictamente lógicos contienen verdades que están más allá de su propio alcance. Es un recordatorio de que la verdad y la demostración no siempre van de la mano.\n",
    "\n",
    "- *Primer Teorema de Incompletitud*\n",
    "\n",
    "\"En cualquier sistema formal consistente, lo suficientemente potente como para describir la aritmética, existen proposiciones verdaderas que no pueden ser demostradas dentro del sistema.\"\n",
    "\n",
    "**Implicaciones:**\n",
    "No importa cuán completo creas que sea un sistema matemático, siempre habrá verdades que no se pueden demostrar dentro de él.\n",
    "\n",
    "\n",
    "- *Segundo Teorema de Incompletitud*\n",
    "\n",
    "\"Ningún sistema formal consistente puede demostrar su propia consistencia.\"\n",
    "\n",
    "**Implicaciones:**\n",
    "Un sistema como la aritmética no puede probar que no contiene contradicciones sin recurrir a un sistema más potente.\n",
    "\n",
    "\n"
   ]
  },
  {
   "cell_type": "markdown",
   "id": "9a0944d5",
   "metadata": {},
   "source": []
  }
 ],
 "metadata": {
  "kernelspec": {
   "display_name": "Python 3",
   "language": "python",
   "name": "python3"
  },
  "language_info": {
   "codemirror_mode": {
    "name": "ipython",
    "version": 3
   },
   "file_extension": ".py",
   "mimetype": "text/x-python",
   "name": "python",
   "nbconvert_exporter": "python",
   "pygments_lexer": "ipython3",
   "version": "3.11.9"
  }
 },
 "nbformat": 4,
 "nbformat_minor": 5
}
