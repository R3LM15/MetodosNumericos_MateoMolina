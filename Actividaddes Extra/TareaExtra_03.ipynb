{
 "cells": [
  {
   "cell_type": "markdown",
   "id": "0e3626cc",
   "metadata": {},
   "source": [
    "# [Actividad extracurricular 03] Tipografía matemática\n",
    "\n",
    "- Mateo Molina Moises Estrella\n",
    "\n",
    "**Link Repositorio:** https://github.com/R3LM15/MetodosNumericos_MateoMolina\n",
    "\n"
   ]
  },
  {
   "cell_type": "markdown",
   "id": "0acac645",
   "metadata": {},
   "source": [
    "\n",
    "<p><center>Tipografía matemática</center></p>\n",
    "\n",
    "| **Nombre**               | **Comando**                         | **Salida**                      |\n",
    "|--------------------------|-------------------------------------|---------------------------------|\n",
    "| Número simple            | `$123$`                             | $123$                           |\n",
    "| Decimal                  | `$3.14$`                            | $3.14$                          |\n",
    "| Fracción                 | `$\\frac{a}{b}$`                     | $\\frac{a}{b}$                   |\n",
    "| Potencia (exponente)     | `$x^2$`                             | $x^2$                           |\n",
    "| Raíz cuadrada            | `$\\sqrt{9}$`                        | $\\sqrt{9}$                      |\n",
    "| Raíz n-ésima             | `$\\sqrt[3]{8}$`                     | $\\sqrt[3]{8}$                   |\n",
    "| Notación científica      | `$5 \\times 10^6$`                   | $5 \\times 10^6$                 |\n",
    "| Multiplicación           | `$a \\times b$`                      | $a \\times b$                    |\n",
    "| División (símbolo ÷)     | `$a \\div b$`                        | $a \\div b$                      |\n",
    "| Igual                    | `$a = b$`                           | $a = b$                         |\n",
    "| No igual                 | `$a \\neq b$`                        | $a \\neq b$                      |\n",
    "| Menor que                | `$a < b$`                           | $a < b$                         |\n",
    "| Mayor que                | `$a > b$`                           | $a > b$                         |\n",
    "| Menor o igual que        | `$a \\leq b$`                        | $a \\leq b$                      |\n",
    "| Mayor o igual que        | `$a \\geq b$`                        | $a \\geq b$                      |\n",
    "| Aproximadamente igual    | `$a \\approx b$`                     | $a \\approx b$                   |\n",
    "| Más-menos (±)            | `$a \\pm b$`                         | $a \\pm b$                       |\n",
    "| Porcentaje               | `$50\\%$`                            | $50\\%$                          |\n",
    "| Proporcionalidad         | `$a \\propto b$`                     | $a \\propto b$                   |\n",
    "| Pertenencia (∈)          | `$a \\in B$`                         | $a \\in B$                       |\n",
    "| No pertenencia (∉)       | `$a \\notin B$`                      | $a \\notin B$                    |\n",
    "| Suma                     | `$\\sum_{i=1}^{n} i$`                | $\\sum_{i=1}^{n} i$              |\n",
    "| Producto (∏)             | `$\\prod_{i=1}^{n} i$`               | $\\prod_{i=1}^{n} i$             |\n",
    "| Límite                   | `$\\lim_{x \\to 0} f(x)$`             | $\\lim_{x \\to 0} f(x)$           |\n",
    "| Derivada simple          | `$\\frac{d}{dx}f(x)$`                | $\\frac{d}{dx}f(x)$              |\n",
    "| Derivada parcial         | `$\\frac{\\partial}{\\partial x}f(x,y)$`| $\\frac{\\partial}{\\partial x}f(x,y)$ |\n",
    "| Integral                 | `$\\int_a^b f(x)\\,dx$`               | $\\int_a^b f(x)\\,dx$             |\n",
    "| Paréntesis automáticos   | `$\\left( \\frac{a}{b} \\right)$`      | $\\left( \\frac{a}{b} \\right)$    |\n",
    "| Corchetes automáticos    | `$\\left[ \\frac{a}{b} \\right]$`      | $\\left[ \\frac{a}{b} \\right]$    |\n",
    "| Llaves automáticas       | `$\\left\\{ \\frac{a}{b} \\right\\}$`    | $\\left\\{ \\frac{a}{b} \\right\\}$  |\n",
    "| Vector                   | `$\\vec{v}$`                         | $\\vec{v}$                       |\n",
    "| Matriz simple            | `$\\begin{matrix}a & b\\\\c & d\\end{matrix}$` | $\\begin{matrix}a & b\\\\c & d\\end{matrix} $|\n"
   ]
  }
 ],
 "metadata": {
  "kernelspec": {
   "display_name": "Python 3",
   "language": "python",
   "name": "python3"
  },
  "language_info": {
   "codemirror_mode": {
    "name": "ipython",
    "version": 3
   },
   "file_extension": ".py",
   "mimetype": "text/x-python",
   "name": "python",
   "nbconvert_exporter": "python",
   "pygments_lexer": "ipython3",
   "version": "3.11.9"
  }
 },
 "nbformat": 4,
 "nbformat_minor": 5
}
